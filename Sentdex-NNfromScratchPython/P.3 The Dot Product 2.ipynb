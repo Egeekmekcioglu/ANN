{
 "cells": [
  {
   "cell_type": "code",
   "execution_count": 6,
   "id": "2ef1326c-9824-4cd2-bd05-084b2c7ba332",
   "metadata": {},
   "outputs": [],
   "source": [
    "import sys\n",
    "import numpy as np\n",
    "import matplotlib"
   ]
  },
  {
   "cell_type": "code",
   "execution_count": 7,
   "id": "53900dd0-4ba5-439f-b3de-cf41ccc2c3b7",
   "metadata": {},
   "outputs": [],
   "source": [
    "inputs = [1, 2, 3, 2.5]   \n",
    "weights =[0.2, 0.8, -0.5, 1.0]\n",
    "bias = 2"
   ]
  },
  {
   "cell_type": "code",
   "execution_count": 12,
   "id": "ad602b5b-2a6f-48d4-86b0-c2a9d0ada8ee",
   "metadata": {},
   "outputs": [
    {
     "name": "stdout",
     "output_type": "stream",
     "text": [
      "[4.8   1.21  2.385]\n"
     ]
    }
   ],
   "source": [
    "inputs = [1, 2, 3, 2.5]  \n",
    "\n",
    "weights =[[0.2, 0.8, -0.5, 1.0],\n",
    "          [0.5, -0.91, 0.26, -0.5],\n",
    "          [-0.26, -0.27, 0.17, 0.87]]\n",
    "\n",
    "biases = [2, 3, 0.5]\n",
    "\n",
    "output = np.dot(weights, inputs) + biases       # Numpy easier dot product\n",
    "print(output)         # Weigths and inputs array was replaced for correct result.\n",
    "              # (4,) and (3,4) Matrix cannot multiply, but (3,4) and (4,) can do."
   ]
  },
  {
   "cell_type": "code",
   "execution_count": null,
   "id": "ace6c59a-9857-48b4-8390-cb7486a72260",
   "metadata": {},
   "outputs": [],
   "source": []
  }
 ],
 "metadata": {
  "kernelspec": {
   "display_name": "Python 3",
   "language": "python",
   "name": "python3"
  },
  "language_info": {
   "codemirror_mode": {
    "name": "ipython",
    "version": 3
   },
   "file_extension": ".py",
   "mimetype": "text/x-python",
   "name": "python",
   "nbconvert_exporter": "python",
   "pygments_lexer": "ipython3",
   "version": "3.8.8"
  }
 },
 "nbformat": 4,
 "nbformat_minor": 5
}

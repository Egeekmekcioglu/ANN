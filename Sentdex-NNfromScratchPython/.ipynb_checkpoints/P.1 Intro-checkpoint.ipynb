{
 "cells": [
  {
   "cell_type": "code",
   "execution_count": 1,
   "id": "26c2be6e-5f99-4925-8519-822da9255a6e",
   "metadata": {},
   "outputs": [],
   "source": [
    "import sys\n",
    "import numpy as np\n",
    "import matplotlib"
   ]
  },
  {
   "cell_type": "markdown",
   "id": "3bdbb013-8f3d-4820-a35b-4008a7114a9c",
   "metadata": {},
   "source": [
    "Every Neuron and Neural Netz has a inputs, weights and bias."
   ]
  },
  {
   "cell_type": "code",
   "execution_count": 2,
   "id": "c34f7603-c576-4d7b-9926-20f450bcba93",
   "metadata": {},
   "outputs": [],
   "source": [
    "inputs = [1.2, 5.1, 2.1]       \n",
    "weights = [3.1, 2.1, 8.7]\n",
    "bias = 3"
   ]
  },
  {
   "cell_type": "markdown",
   "id": "03730ed1-0471-480c-8d38-cbdde28e8443",
   "metadata": {},
   "source": [
    "First Steps : Add up all the inputs times weights plus bias"
   ]
  },
  {
   "cell_type": "code",
   "execution_count": 4,
   "id": "169e308a-f312-415b-9996-50e343e483d5",
   "metadata": {},
   "outputs": [
    {
     "name": "stdout",
     "output_type": "stream",
     "text": [
      "35.7\n"
     ]
    }
   ],
   "source": [
    "output = inputs[0]*weights[0] + inputs[1]*weights[1] + inputs[2]*weights[2] + bias\n",
    "print(output)"
   ]
  },
  {
   "cell_type": "code",
   "execution_count": null,
   "id": "324b877a-4150-408a-94dd-06c2004f6e8f",
   "metadata": {},
   "outputs": [],
   "source": []
  }
 ],
 "metadata": {
  "kernelspec": {
   "display_name": "Python 3",
   "language": "python",
   "name": "python3"
  },
  "language_info": {
   "codemirror_mode": {
    "name": "ipython",
    "version": 3
   },
   "file_extension": ".py",
   "mimetype": "text/x-python",
   "name": "python",
   "nbconvert_exporter": "python",
   "pygments_lexer": "ipython3",
   "version": "3.8.8"
  }
 },
 "nbformat": 4,
 "nbformat_minor": 5
}

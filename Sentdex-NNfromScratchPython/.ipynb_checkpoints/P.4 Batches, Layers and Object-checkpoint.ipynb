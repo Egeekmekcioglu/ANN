{
 "cells": [
  {
   "cell_type": "code",
   "execution_count": 1,
   "id": "460c1ac0-a990-4ec3-9842-86954f9a429e",
   "metadata": {},
   "outputs": [],
   "source": [
    "import sys\n",
    "import numpy as np\n",
    "import matplotlib"
   ]
  },
  {
   "cell_type": "code",
   "execution_count": 6,
   "id": "2e68fc2f-e9fe-4609-815b-9a67a7b1d63e",
   "metadata": {},
   "outputs": [
    {
     "name": "stdout",
     "output_type": "stream",
     "text": [
      "[[ 4.8    1.21   2.385]\n",
      " [ 8.9   -1.81   0.2  ]\n",
      " [ 1.41   1.051  0.026]]\n"
     ]
    }
   ],
   "source": [
    "inputs = [[1.0, 2.0, 3.0, 2.5],\n",
    "          [2.0, 5.0, -1.0, 2.0],\n",
    "          [-1.5, 2.7, 3.3, -0.8]\n",
    "         ]  \n",
    "\n",
    "weights =[[0.2, 0.8, -0.5, 1.0],\n",
    "          [0.5, -0.91, 0.26, -0.5],\n",
    "          [-0.26, -0.27, 0.17, 0.87]]    # We want to switch rows and columns\n",
    "                                  # For better compatibility (3,4)x(4,3) Correct!\n",
    "\n",
    "\n",
    "biases = [2, 3, 0.5]\n",
    "\n",
    "output = np.dot(inputs, np.array(weights).T) + biases    # Convert to transpose.  \n",
    "print(output)"
   ]
  },
  {
   "cell_type": "markdown",
   "id": "97b411b7-e190-42e4-9def-fc712a2c6e8b",
   "metadata": {},
   "source": [
    "We crate second Layer on Neural Netz with Weights and Biases function."
   ]
  },
  {
   "cell_type": "code",
   "execution_count": 7,
   "id": "9143ef21-54b6-43f0-9cc9-f26e1c65e5be",
   "metadata": {},
   "outputs": [
    {
     "name": "stdout",
     "output_type": "stream",
     "text": [
      "[[ 0.5031  -1.04185  2.18525]\n",
      " [ 0.2434  -2.7332   2.0687 ]\n",
      " [-0.99314  1.41254  0.88425]]\n"
     ]
    }
   ],
   "source": [
    "weights2 =[[0.1, -0.14, 0.5],\n",
    "          [-0.5, 0.12, -0.33],\n",
    "          [0.44, 0.73, -0.13]]    \n",
    "\n",
    "\n",
    "biases2 = [-1, 2, -0.5]\n",
    "\n",
    "layer1_outputs= np.dot(inputs, np.array(weights).T) + biases \n",
    "\n",
    "layer2_outputs= np.dot(layer1_outputs, np.array(weights2).T) + biases2\n",
    "print(layer2_outputs)"
   ]
  },
  {
   "cell_type": "code",
   "execution_count": null,
   "id": "cf87adec-d271-4751-9863-704161453824",
   "metadata": {},
   "outputs": [],
   "source": []
  }
 ],
 "metadata": {
  "kernelspec": {
   "display_name": "Python 3",
   "language": "python",
   "name": "python3"
  },
  "language_info": {
   "codemirror_mode": {
    "name": "ipython",
    "version": 3
   },
   "file_extension": ".py",
   "mimetype": "text/x-python",
   "name": "python",
   "nbconvert_exporter": "python",
   "pygments_lexer": "ipython3",
   "version": "3.8.8"
  }
 },
 "nbformat": 4,
 "nbformat_minor": 5
}

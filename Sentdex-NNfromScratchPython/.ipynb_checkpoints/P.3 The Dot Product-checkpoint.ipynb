{
 "cells": [
  {
   "cell_type": "code",
   "execution_count": 1,
   "id": "3f12d967-14bf-43b3-8e10-dfd263d13c54",
   "metadata": {},
   "outputs": [],
   "source": [
    "import sys\n",
    "import numpy as np\n",
    "import matplotlib"
   ]
  },
  {
   "cell_type": "code",
   "execution_count": 2,
   "id": "8b880768-7952-4c7c-bbe5-eb5bb1a9dcc6",
   "metadata": {},
   "outputs": [],
   "source": [
    "inputs = [1, 2, 3, 2.5]   \n",
    "\n",
    "weights =[[0.2, 0.8, -0.5, 1.0],\n",
    "          [0.5, -0.91, 0.26, -0.5],\n",
    "          [-0.26, -0.27, 0.17, 0.87]]\n",
    "\n",
    "biases = [2, 3, 0.5]"
   ]
  },
  {
   "cell_type": "code",
   "execution_count": 4,
   "id": "0d4bce5d-927e-4f64-a58e-22d97d26ba68",
   "metadata": {},
   "outputs": [
    {
     "data": {
      "text/plain": [
       "'\\nlayer_outputs = [] # Output of current layer\\nfor neuron_weights, neuron_bias in zip(weights, biases):\\n    neuron_output = 0                       # Output of given neuron\\n    \\n    for n_input, weight in zip(inputs, neuron_weights):\\n        neuron_output += n_input*weight\\n    neuron_output += neuron_bias\\n    layer_outputs.append(neuron_output)\\n    \\nprint(layer_outputs)\\n'"
      ]
     },
     "execution_count": 4,
     "metadata": {},
     "output_type": "execute_result"
    }
   ],
   "source": [
    "'''\n",
    "layer_outputs = [] # Output of current layer\n",
    "for neuron_weights, neuron_bias in zip(weights, biases):\n",
    "    neuron_output = 0                       # Output of given neuron\n",
    "    \n",
    "    for n_input, weight in zip(inputs, neuron_weights):\n",
    "        neuron_output += n_input*weight\n",
    "    neuron_output += neuron_bias\n",
    "    layer_outputs.append(neuron_output)\n",
    "    \n",
    "print(layer_outputs)\n",
    "'''                   # Correct Answer was given by upper code."
   ]
  },
  {
   "cell_type": "code",
   "execution_count": 7,
   "id": "d8d06cf5-5476-4da4-b9b2-8f4f60189f8b",
   "metadata": {},
   "outputs": [
    {
     "name": "stdout",
     "output_type": "stream",
     "text": [
      "-0.35\n",
      "-0.19999999999999996\n"
     ]
    }
   ],
   "source": [
    "some_value = 0.5\n",
    "weight = -0.7\n",
    "bias = 0.7\n",
    "\n",
    "print(some_value*weight)\n",
    "print(some_value+weight)"
   ]
  },
  {
   "cell_type": "code",
   "execution_count": null,
   "id": "9904d66f-b937-492b-98ce-26bd02e423b2",
   "metadata": {},
   "outputs": [],
   "source": []
  }
 ],
 "metadata": {
  "kernelspec": {
   "display_name": "Python 3",
   "language": "python",
   "name": "python3"
  },
  "language_info": {
   "codemirror_mode": {
    "name": "ipython",
    "version": 3
   },
   "file_extension": ".py",
   "mimetype": "text/x-python",
   "name": "python",
   "nbconvert_exporter": "python",
   "pygments_lexer": "ipython3",
   "version": "3.8.8"
  }
 },
 "nbformat": 4,
 "nbformat_minor": 5
}

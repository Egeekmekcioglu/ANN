{
 "cells": [
  {
   "cell_type": "code",
   "execution_count": 7,
   "id": "59e52d35-be38-41e8-914c-d4d4b820a676",
   "metadata": {},
   "outputs": [],
   "source": [
    "import sys\n",
    "import numpy as np\n",
    "import matplotlib\n",
    "\n",
    "np.random.seed(0)\n",
    "\n",
    "\n",
    "X = [[1, 2, 3, 2.5],\n",
    "    [2.0, 5.0, -1.0, 2.0],\n",
    "    [-1.5, 2.7, 3.3, -0.8]]  "
   ]
  },
  {
   "cell_type": "markdown",
   "id": "633067da-64d2-4ae3-8fc8-0b568136f159",
   "metadata": {},
   "source": [
    "We're going to define is the *'two hidden'* layers."
   ]
  },
  {
   "cell_type": "code",
   "execution_count": 3,
   "id": "dd9933e4-3863-4196-ab81-b6f5dee72023",
   "metadata": {},
   "outputs": [
    {
     "name": "stdout",
     "output_type": "stream",
     "text": [
      "[[ 1.76405235  0.40015721  0.97873798]\n",
      " [ 2.2408932   1.86755799 -0.97727788]\n",
      " [ 0.95008842 -0.15135721 -0.10321885]\n",
      " [ 0.4105985   0.14404357  1.45427351]]\n"
     ]
    }
   ],
   "source": [
    "class Layer_Dense:\n",
    "    def __init__(self, n_inputs, n_neurons):\n",
    "        self.weights = np.random.randn(n_inputs, n_neurons)\n",
    "    def forward(self):\n",
    "        pass\n",
    "    \n",
    "    \n",
    "print(np.random.randn(4, 3)) # Value bigger than 1, For this reason, we multiply 0.1"
   ]
  },
  {
   "cell_type": "code",
   "execution_count": 4,
   "id": "7de046c8-73db-4dd0-99f2-034c694e3e93",
   "metadata": {},
   "outputs": [
    {
     "name": "stdout",
     "output_type": "stream",
     "text": [
      "[[ 0.07610377  0.0121675   0.04438632]\n",
      " [ 0.03336743  0.14940791 -0.02051583]\n",
      " [ 0.03130677 -0.08540957 -0.25529898]\n",
      " [ 0.06536186  0.08644362 -0.0742165 ]]\n"
     ]
    }
   ],
   "source": [
    "print(0.1*np.random.randn(4, 3))"
   ]
  },
  {
   "cell_type": "code",
   "execution_count": 9,
   "id": "b04713bd-0039-4c5a-b43e-efdf47b848f0",
   "metadata": {},
   "outputs": [
    {
     "name": "stdout",
     "output_type": "stream",
     "text": [
      "[[-0.46060065  0.49553499  0.08326609 -0.4587313   0.34089788]\n",
      " [-1.22200575  0.36184486  0.40854986  0.73857089  1.16296097]\n",
      " [ 0.02889447 -0.05931761 -0.56936475 -0.09750155 -0.03436311]]\n"
     ]
    }
   ],
   "source": [
    "class Layer_Dense:\n",
    "    def __init__(self, n_inputs, n_neurons):\n",
    "        self.weights = 0.1* np.random.randn(n_inputs, n_neurons)\n",
    "        self.biases = np.zeros((1, n_neurons))\n",
    "    def forward(self, inputs):\n",
    "        self.output = np.dot(inputs, self.weights) + self.biases\n",
    "        \n",
    "layer1 = Layer_Dense(4, 5)\n",
    "layer2 = Layer_Dense(5, 2)\n",
    "    \n",
    "layer1.forward(X)\n",
    "print(layer1.output)"
   ]
  },
  {
   "cell_type": "code",
   "execution_count": 10,
   "id": "9a7447bf-c268-4f7e-b938-d35fdcce399f",
   "metadata": {},
   "outputs": [
    {
     "name": "stdout",
     "output_type": "stream",
     "text": [
      "[[-0.03804671  0.115508  ]\n",
      " [-0.23464641  0.2588996 ]\n",
      " [ 0.05387005  0.0024182 ]]\n"
     ]
    }
   ],
   "source": [
    "layer2.forward(layer1.output)\n",
    "print(layer2.output)"
   ]
  },
  {
   "cell_type": "code",
   "execution_count": null,
   "id": "5c60b221-f5f4-40ea-9a60-de016dd6de04",
   "metadata": {},
   "outputs": [],
   "source": []
  }
 ],
 "metadata": {
  "kernelspec": {
   "display_name": "Python 3",
   "language": "python",
   "name": "python3"
  },
  "language_info": {
   "codemirror_mode": {
    "name": "ipython",
    "version": 3
   },
   "file_extension": ".py",
   "mimetype": "text/x-python",
   "name": "python",
   "nbconvert_exporter": "python",
   "pygments_lexer": "ipython3",
   "version": "3.8.8"
  }
 },
 "nbformat": 4,
 "nbformat_minor": 5
}
